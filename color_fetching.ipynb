{
 "cells": [
  {
   "cell_type": "code",
   "execution_count": 2,
   "id": "bec8e032-05c4-42c4-b430-0c0e0da9de24",
   "metadata": {},
   "outputs": [],
   "source": [
    "from colorthief import ColorThief\n",
    "import matplotlib.pyplot as plt"
   ]
  },
  {
   "cell_type": "code",
   "execution_count": 12,
   "id": "f891c572-b3a6-4bf0-a2dc-bf1582ab32bd",
   "metadata": {},
   "outputs": [
    {
     "name": "stdout",
     "output_type": "stream",
     "text": [
      "(223, 192, 201)\n"
     ]
    }
   ],
   "source": [
    "ct=ColorThief(\"C:/Users/jiash/OneDrive/Desktop/deep_learning/base_data/training/bows/Screenshot 2024-07-09 215824.png\")\n",
    "dominant_color = ct.get_color(quality=1)\n",
    "print(dominant_color)"
   ]
  },
  {
   "cell_type": "code",
   "execution_count": 13,
   "id": "61e779ed-f1e0-4c18-ba93-38a37e77f26e",
   "metadata": {},
   "outputs": [
    {
     "name": "stdout",
     "output_type": "stream",
     "text": [
      "(0.9516129032258065, 0.13901345291479822, 0.8745098039215686)\n"
     ]
    }
   ],
   "source": [
    "from colorthief import ColorThief\n",
    "import colorsys\n",
    "\n",
    "# Initialize ColorThief and get the dominant color in RGB format\n",
    "ct = ColorThief(\"C:/Users/jiash/OneDrive/Desktop/deep_learning/base_data/training/bows/Screenshot 2024-07-09 215824.png\")\n",
    "dominant_color_rgb = ct.get_color(quality=1)\n",
    "\n",
    "# Convert RGB to HSV\n",
    "dominant_color_hsv = colorsys.rgb_to_hsv(dominant_color_rgb[0] / 255.0, dominant_color_rgb[1] / 255.0, dominant_color_rgb[2] / 255.0)\n",
    "\n",
    "# Print the dominant color in HSV format\n",
    "print(dominant_color_hsv)\n"
   ]
  },
  {
   "cell_type": "code",
   "execution_count": 7,
   "id": "0986a87f-178c-460c-a7be-cce228d0387b",
   "metadata": {},
   "outputs": [
    {
     "data": {
      "image/png": "[encoded data removed]",
      "text/plain": [
       "<Figure size 640x480 with 1 Axes>"
      ]
     },
     "metadata": {},
     "output_type": "display_data"
    }
   ],
   "source": [
    "plt.imshow([[dominant_color]])\n",
    "plt.show()"
   ]
  },
  {
   "cell_type": "code",
   "execution_count": 11,
   "id": "a5db529b-a2ac-45e8-afb4-5e018fa69733",
   "metadata": {},
   "outputs": [
    {
     "name": "stdout",
     "output_type": "stream",
     "text": [
      "not pink\n"
     ]
    }
   ],
   "source": [
    "if 222<dominant_color[0]<255 and 0<dominant_color[1]<185 and 95<dominant_color[2]<255:\n",
    "    print(\"pink\")\n",
    "else:\n",
    "    print(\"not pink\")"
   ]
  },
  {
   "cell_type": "code",
   "execution_count": null,
   "id": "8ed2fd29-b472-4123-9995-01644bcc3cc4",
   "metadata": {},
   "outputs": [],
   "source": []
  }
 ],
 "metadata": {
  "kernelspec": {
   "display_name": "Python 3 (ipykernel)",
   "language": "python",
   "name": "python3"
  },
  "language_info": {
   "codemirror_mode": {
    "name": "ipython",
    "version": 3
   },
   "file_extension": ".py",
   "mimetype": "text/x-python",
   "name": "python",
   "nbconvert_exporter": "python",
   "pygments_lexer": "ipython3",
   "version": "3.11.4"
  }
 },
 "nbformat": 4,
 "nbformat_minor": 5
}
